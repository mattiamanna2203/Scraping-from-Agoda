{
 "cells": [
  {
   "cell_type": "markdown",
   "metadata": {},
   "source": [
    "# Introduzione"
   ]
  },
  {
   "cell_type": "markdown",
   "metadata": {},
   "source": [
    "L'environment **anaconda** da utilizzare è **ddmcs**.  "
   ]
  },
  {
   "cell_type": "markdown",
   "metadata": {},
   "source": [
    "# Importazione pacchetti"
   ]
  },
  {
   "cell_type": "markdown",
   "metadata": {},
   "source": [
    "Importare i vari pacchetti necessari  per eseguire le azioni elencate nell'introduzione:\n",
    "   - selenium (per navigare sulle pagine web)\n",
    "   - request (scaricare dati da internet)\n",
    "   - bs4 (beautiful soup, manipolare gli html)\n",
    "   - os (navigare nei file del computer)\n",
    "   - pandas (manipolazione/esportazione dataframes)\n",
    "   - time (per i time sleep)\n",
    "   - datetime (gestire i timestamp, ovvero le stringhe contenti date e orari)\n",
    "   - tqdm (per le barre di progresso) \n",
    "   - re (lavorare con regex e le regular expressions)"
   ]
  },
  {
   "cell_type": "code",
   "execution_count": 1,
   "metadata": {},
   "outputs": [],
   "source": [
    "#%% Pacchetti\n",
    "## Importazione pacchetti per selenium\n",
    "from selenium import webdriver\n",
    "from selenium.webdriver.chrome.service import Service # Selezionare il chrome driver\n",
    "# Altre funzionalità di selenium\n",
    "#from selenium.webdriver.support.ui import WebDriverWait\n",
    "#from selenium.webdriver.common.by import By\n",
    "#from selenium.webdriver.support import expected_conditions as EC\n",
    "#from selenium.webdriver.common.action_chains import ActionChains\n",
    "#from selenium.webdriver.chrome.options import Options\n",
    "#from selenium.webdriver.common.keys import Keys\n",
    "#from selenium.webdriver.common.actions.wheel_input import ScrollOrigin\n",
    "#from selenium.common.exceptions import TimeoutException\n",
    "#from webdriver_manager.chrome import ChromeDriverManager\n",
    "#-------##-------##-------##-------##-------##-------##-------##-------##-------##-------#\n",
    "import requests # Importazione pacchetti per scaricare dati da internet\n",
    "from bs4 import BeautifulSoup # Importazione pacchetti per gestire HTML\n",
    "import os # Interagire con i file del pc \n",
    "from tqdm import tqdm as tqdm # Importazione pacchetti per barra di progresso\n",
    "import re # Importazione pacchetti per utilizzare regex e le regular expression\n",
    "import time # Importazione pacchetti per utilizzare dei time.sleep()\n",
    "# import pandas as pd  # Importazione pacchetti per lavorare con i dataframe\n",
    "# import warnings # Importazione pacchetti per gestire i warnings, ad esempio quelli di pandas\n",
    "import random # Importazione pacchetti per ottenere numeri casuali, utile per utilizzare time.sleep() randomici (meno identificabili)\n",
    "#from datetime import datetime # Importazione pacchetti per lavorare con timestamps, orari e date\n",
    "\n",
    "\n",
    "\n",
    "# Importare le funzioni per lavorare su instagram con il selenium both\n",
    "from funzioni_selenium_bot_agoda import *"
   ]
  },
  {
   "cell_type": "markdown",
   "metadata": {},
   "source": [
    "# Percorsi file \n",
    "Siccome questo bot leggerà e scriverà file localmente, stabilire quali sono i percorsi file di questi elementi.   "
   ]
  },
  {
   "cell_type": "code",
   "execution_count": 2,
   "metadata": {},
   "outputs": [],
   "source": [
    "# Path per il driver di selenium\n",
    "path_driver=\"/Users/mattia/opt/chromedriver137\"\n",
    "\n",
    "# Directory principale dello scraper, ove vi sono gli script e gli html devono essere posizionati\n",
    "path_main_directory = '/Users/mattia/Desktop/Università/Data Science in Python/14) Web Scraping/Scraping-from-Agoda'"
   ]
  },
  {
   "cell_type": "markdown",
   "metadata": {},
   "source": [
    "Creare le directory ove mettere i file"
   ]
  },
  {
   "cell_type": "code",
   "execution_count": 3,
   "metadata": {},
   "outputs": [],
   "source": [
    "# Andare alla directory principale specificata nella precedente linea di codice\n",
    "os.chdir(path_main_directory)\n",
    "\n",
    "# Se non c'è la directory html crearla. Viene inserita questa clausola per evitare che una directory esistente\n",
    "# venga cancellata\n",
    "if \"html\" not in os.listdir():\n",
    "   os.mkdir(\"html\")\n"
   ]
  },
  {
   "cell_type": "markdown",
   "metadata": {},
   "source": [
    "# Impostare il selenium bot e accesso ad Instagram"
   ]
  },
  {
   "cell_type": "code",
   "execution_count": 4,
   "metadata": {},
   "outputs": [],
   "source": [
    "# La classe Service di Selenium viene utilizzata per gestire e configurare il driver del browser\n",
    "service = Service(executable_path=path_driver)\n",
    "\n",
    "# Configurare il driver di Chrome \n",
    "options = webdriver.ChromeOptions()\n",
    "\n",
    "\n",
    "#options.add_argument(\"--headless\")  # Modalità headless\n",
    "\n",
    "# No images\n",
    "prefs = {\"profile.managed_default_content_settings.images\": 2}\n",
    "options.add_experimental_option(\"prefs\", prefs)\n",
    "\n",
    "\n",
    "# Aggiungere l'utilizzo di proxy\n",
    "#options.add_argument(f'--proxy-server={proxy_address}') # non sembra funzionare con la proxy, troppo lento\n",
    "\n",
    "# Definire il driver: utilizzare il driver scelto (service) e passargli le impostazioni scelte (options)\n",
    "driver = webdriver.Chrome(service=service, options=options)\n",
    "\n",
    "\n",
    "\n",
    "# Impostare le dimensioni della finestra google sulla quale il bot selenium opera.\n",
    "driver.maximize_window() # dimensioni massime\n",
    "#driver.set_window_size(600, 800)   # dimensioni customizzate\n",
    "\n",
    "# Impostare la posizione della finestra google sulla quale il bot selenium opera.\n",
    "#driver.set_window_position(0,0)\n",
    "\n",
    "\n"
   ]
  },
  {
   "cell_type": "markdown",
   "metadata": {},
   "source": [
    "# Istruzioni per il selenium bot "
   ]
  },
  {
   "cell_type": "code",
   "execution_count": 5,
   "metadata": {},
   "outputs": [
    {
     "name": "stdout",
     "output_type": "stream",
     "text": [
      "Cookie accettati metodo 1\n",
      "Avanti cliccato metodo 1\n",
      "pagina successiva, si va a pagina: 2\n"
     ]
    }
   ],
   "source": [
    "link = \"\"\"https://www.agoda.com/it-it/search?city=626&locale=it-it&ckuid=45687004-1d36-4d5b-a134-176448822573&prid=0&currency=EUR&correlationId=537c1df2-2a6a-42d7-8d28-855146282b2a&analyticsSessionId=7120213444848295795&pageTypeId=103&realLanguageId=4&languageId=4&origin=IT&stateCode=RM&cid=-1&userId=45687004-1d36-4d5b-a134-176448822573&whitelabelid=1&loginLvl=0&storefrontId=3&currencyId=1&currencyCode=EUR&htmlLanguage=it-it&cultureInfoName=it-it&machineName=am-pc-4g-acm-web-user-695fd75f86-nn987&trafficGroupId=4&trafficSubGroupId=4&aid=130243&useFullPageLogin=true&cttp=4&isRealUser=true&mode=production&browserFamily=Safari&cdnDomain=agoda.net&checkIn=2025-08-01&checkOut=2025-08-02&rooms=1&adults=2&children=0&priceCur=EUR&los=1&textToSearch=Terni&productType=-1&travellerType=1&familyMode=off&ds=A0fnajy9b9Jt5SPD\"\"\"\n",
    "   \n",
    "\n",
    "driver.get(link) \n",
    "\n",
    "time.sleep(10)\n",
    "\n",
    "\n",
    "click_cookie_button(driver)\n",
    "\n",
    "\n",
    "scroll_step = 200\n",
    "last_height = driver.execute_script(\"return document.body.scrollHeight\")\n",
    "current_position = 0\n",
    "scroll = 0\n",
    "\n",
    "while True:\n",
    "   # Prendere l'html della pagina \n",
    "   html=driver.page_source \n",
    "   \n",
    "\n",
    "\n",
    "   html_bs4 = BeautifulSoup(html,'html.parser')\n",
    "   # Identificare numero di pagine e pagine corrente  \n",
    "   pagine = html_bs4.find(\"div\",{\"id\":\"paginationContainer\"}).find(\"span\",{\"id\":\"paginationPageCount\"}).text.replace(\"Pagina\",\"\")\n",
    "   pagina_corrente = int(pagine.split(\"di\")[0])\n",
    "   pagine_totali = int(pagine.split(\"di\")[1])\n",
    "   #print(pagina_corrente,pagine_totali)\n",
    "   \n",
    "   # Salvare l'html in un file txt\n",
    "   with open(f\"{path_main_directory}/HTML/html_{scroll}.txt\",\"w+\") as f:\n",
    "      f.write(str(html))    \n",
    "      \n",
    "    \n",
    "   driver.execute_script(f\"window.scrollBy(0, {scroll_step});\")\n",
    "   \n",
    "   # Tempo di attesa randomico, meno riconoscibile\n",
    "   tempo_attesa = random.randint(3,6)\n",
    "   time.sleep(tempo_attesa)\n",
    "   \n",
    "   current_position += scroll_step\n",
    "   last_height = driver.execute_script(\"return document.body.scrollHeight\")\n",
    "   scroll += 1\n",
    "   \n",
    "\n",
    "\n",
    "   # Se si è arrivati al finale della pagina e si è alla pagina finale interrompere\n",
    "   if (current_position >= last_height) and (pagina_corrente == pagine_totali) :\n",
    "      with open(f\"{path_main_directory}/HTML/html_final_pagina{pagina_corrente}.txt\",\"w+\") as f:\n",
    "         f.write(str(html))  \n",
    "      break \n",
    "   \n",
    "\n",
    "   # se si è arrivati al finale della pagina ma ci sono ancora pagine andare alla pagina successivaa\n",
    "   elif (current_position >= last_height) and (pagina_corrente < pagine_totali) :\n",
    "      # Salvare l'html in un file txt, quando si clicca si andrà su una nuova pagina, salvare tutti i risultati\n",
    "      with open(f\"{path_main_directory}/HTML/html_final_pagina{pagina_corrente}.txt\",\"w+\") as f:\n",
    "         f.write(str(html))  \n",
    "\n",
    "      current_position = 0\n",
    "      click_avanti_button(driver)\n",
    "      time.sleep(20)\n",
    "      \n",
    "      print(\"pagina successiva, si va a pagina:\",pagina_corrente+1)\n",
    "      \n",
    "      continue \n",
    "\n",
    "      \n",
    "\n",
    "\n",
    "   \n",
    "driver.quit()"
   ]
  }
 ],
 "metadata": {
  "kernelspec": {
   "display_name": "ddmcs",
   "language": "python",
   "name": "python3"
  },
  "language_info": {
   "codemirror_mode": {
    "name": "ipython",
    "version": 3
   },
   "file_extension": ".py",
   "mimetype": "text/x-python",
   "name": "python",
   "nbconvert_exporter": "python",
   "pygments_lexer": "ipython3",
   "version": "3.10.13"
  }
 },
 "nbformat": 4,
 "nbformat_minor": 2
}
